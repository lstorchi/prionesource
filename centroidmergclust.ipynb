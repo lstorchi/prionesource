{
 "cells": [
  {
   "cell_type": "code",
   "execution_count": 35,
   "metadata": {},
   "outputs": [],
   "source": [
    "file1 = \"model1_vs_model1_OH2.txt\"\n",
    "file2 = \"model1_vs_model1_DRY.txt\"\n",
    "\n",
    "fp1 = open(file1, \"r\")\n",
    "fp2 = open(file2, \"r\")\n",
    "\n",
    "pairtoid = {}\n",
    "\n",
    "fp1 = open(file1, \"r\")\n",
    "\n",
    "for l in fp1:\n",
    "    sl = l.split()\n",
    "    id = int(sl[-1])\n",
    "    pair = sl[0]\n",
    "    \n",
    "    if pair in pairtoid:\n",
    "        pairtoid[pair] += id\n",
    "    else:\n",
    "        pairtoid[pair] = id\n",
    "        \n",
    "fp1.close()\n",
    "\n",
    "fp2 = open(file2, \"r\")\n",
    "\n",
    "for l in fp2:\n",
    "    sl = l.split()\n",
    "    id = int(sl[-1])\n",
    "    pair = sl[0]\n",
    "    \n",
    "    if pair in pairtoid:\n",
    "        pairtoid[pair] += id\n",
    "    else:\n",
    "        pairtoid[pair] = id\n",
    "        \n",
    "fp2.close()\n",
    "\n",
    "idtolist ={}\n",
    "\n",
    "for id in pairtoid.values():\n",
    "    idtolist[id] = [k for k,v in pairtoid.items() if v == id]\n"
   ]
  },
  {
   "cell_type": "code",
   "execution_count": 38,
   "metadata": {},
   "outputs": [
    {
     "name": "stdout",
     "output_type": "stream",
     "text": [
      "{0, 1, 2, 3, 4, 5, 6, 7, 8, 9, 10, 11, 12, 13, 14, 15, 16, 17, 18, 19, 20, 21, 22, 23, 24, 25, 26, 27, 28, 29, 30, 31, 32, 33, 34, 35, 36, 37, 38, 39, 40, 41, 42, 43, 44, 45, 46, 47, 48, 49, 50, 51, 52, 53, 54, 55, 56, 57, 58, 59, 60, 61, 62, 63, 64, 65, 66, 67, 68, 69, 70, 71, 72, 74, 75, 79, 80, 82}\n"
     ]
    },
    {
     "data": {
      "text/plain": [
       "[<matplotlib.lines.Line2D at 0x7f8be96b88b0>]"
      ]
     },
     "execution_count": 38,
     "metadata": {},
     "output_type": "execute_result"
    },
    {
     "data": {
      "image/png": "[encoded data removed]",
      "text/plain": [
       "<Figure size 432x288 with 1 Axes>"
      ]
     },
     "metadata": {},
     "output_type": "display_data"
    }
   ],
   "source": [
    "from matplotlib import pyplot as plt\n",
    "\n",
    "idlist = list(pairtoid.values())\n",
    "idlist.sort()\n",
    "\n",
    "plt.style.use('dark_background')\n",
    "\n",
    "clustid = set(idlist)\n",
    "print(clustid)\n",
    "plt.plot(idlist)\n"
   ]
  },
  {
   "cell_type": "code",
   "execution_count": 37,
   "metadata": {},
   "outputs": [
    {
     "name": "stdout",
     "output_type": "stream",
     "text": [
      "e200k_110nacl_model1_006_A-B_global_dock_02537    -438.977 in cluster   0\n",
      "e200k_110nacl_model1_006_A-B_global_dock_06930    -436.172 in cluster   1\n",
      "e200k_110nacl_model1_006_A-B_global_dock_09799    -442.716 in cluster   2\n",
      "e200k_110nacl_model1_006_A-B_global_dock_03087    -444.861 in cluster   3\n",
      "e200k_110nacl_model1_006_A-B_global_dock_06277    -446.532 in cluster   4\n",
      "e200k_110nacl_model1_006_A-B_global_dock_04701    -445.201 in cluster   5\n",
      "e200k_110nacl_model1_006_A-B_global_dock_01332    -444.174 in cluster   6\n",
      "e200k_110nacl_model1_006_A-B_global_dock_00468    -447.488 in cluster   7\n",
      "e200k_110nacl_model1_006_A-B_global_dock_07586    -449.138 in cluster   8\n",
      "e200k_110nacl_model1_006_A-B_global_dock_02791    -448.719 in cluster   9\n",
      "e200k_110nacl_model1_006_A-B_global_dock_03547    -448.476 in cluster  10\n",
      "e200k_110nacl_model1_006_A-B_global_dock_05406    -449.030 in cluster  11\n",
      "e200k_110nacl_model1_006_A-B_global_dock_09190    -450.897 in cluster  12\n",
      "e200k_110nacl_model1_006_A-B_global_dock_02233    -452.088 in cluster  13\n",
      "e200k_110nacl_model1_006_A-B_global_dock_03487    -451.129 in cluster  14\n",
      "e200k_110nacl_model1_006_A-B_global_dock_08230    -451.192 in cluster  15\n",
      "e200k_110nacl_model1_006_A-B_global_dock_08760    -452.870 in cluster  16\n",
      "e200k_110nacl_model1_006_A-B_global_dock_08194    -453.877 in cluster  17\n",
      "e200k_110nacl_model1_006_A-B_global_dock_07023    -454.517 in cluster  18\n",
      "e200k_110nacl_model1_006_A-B_global_dock_08502    -453.242 in cluster  19\n",
      "e200k_110nacl_model1_006_A-B_global_dock_06707    -455.222 in cluster  20\n",
      "e200k_110nacl_model1_006_A-B_global_dock_04255    -454.414 in cluster  21\n",
      "e200k_110nacl_model1_006_A-B_global_dock_01796    -455.595 in cluster  22\n",
      "e200k_110nacl_model1_006_A-B_global_dock_07798    -453.808 in cluster  23\n",
      "e200k_110nacl_model1_006_A-B_global_dock_02867    -455.038 in cluster  24\n",
      "e200k_110nacl_model1_006_A-B_global_dock_06427    -453.145 in cluster  25\n",
      "e200k_110nacl_model1_006_A-B_global_dock_05667    -455.375 in cluster  26\n",
      "e200k_110nacl_model1_006_A-B_global_dock_03439    -455.605 in cluster  27\n",
      "e200k_110nacl_model1_006_A-B_global_dock_01301    -456.133 in cluster  28\n",
      "e200k_110nacl_model1_006_A-B_global_dock_01589    -454.330 in cluster  29\n",
      "e200k_110nacl_model1_006_A-B_global_dock_05611    -459.427 in cluster  30\n",
      "e200k_110nacl_model1_006_A-B_global_dock_01177    -452.671 in cluster  31\n",
      "e200k_110nacl_model1_006_A-B_global_dock_03917    -459.666 in cluster  32\n",
      "e200k_110nacl_model1_006_A-B_global_dock_00430    -454.235 in cluster  33\n",
      "e200k_110nacl_model1_006_A-B_global_dock_02446    -456.656 in cluster  34\n",
      "e200k_110nacl_model1_006_A-B_global_dock_00819    -455.149 in cluster  35\n",
      "e200k_110nacl_model1_006_A-B_global_dock_02209    -455.377 in cluster  36\n",
      "e200k_110nacl_model1_006_A-B_global_dock_09581    -454.450 in cluster  37\n",
      "e200k_110nacl_model1_006_A-B_global_dock_06306    -455.182 in cluster  38\n",
      "e200k_110nacl_model1_006_A-B_global_dock_07877    -454.579 in cluster  39\n",
      "e200k_110nacl_model1_006_A-B_global_dock_04779    -452.908 in cluster  40\n",
      "e200k_110nacl_model1_006_A-B_global_dock_07297    -453.308 in cluster  41\n",
      "e200k_110nacl_model1_006_A-B_global_dock_04554    -459.971 in cluster  42\n",
      "e200k_110nacl_model1_006_A-B_global_dock_07638    -455.274 in cluster  43\n",
      "e200k_110nacl_model1_006_A-B_global_dock_08926    -454.537 in cluster  44\n",
      "e200k_110nacl_model1_006_A-B_global_dock_00489    -457.280 in cluster  45\n",
      "e200k_110nacl_model1_006_A-B_global_dock_04617    -452.336 in cluster  46\n",
      "e200k_110nacl_model1_006_A-B_global_dock_06825    -454.073 in cluster  47\n",
      "e200k_110nacl_model1_006_A-B_global_dock_06851    -451.563 in cluster  48\n",
      "e200k_110nacl_model1_006_A-B_global_dock_03804    -453.259 in cluster  49\n",
      "e200k_110nacl_model1_006_A-B_global_dock_00131    -455.910 in cluster  50\n",
      "e200k_110nacl_model1_006_A-B_global_dock_05729    -452.467 in cluster  51\n",
      "e200k_110nacl_model1_006_A-B_global_dock_04747    -453.835 in cluster  52\n",
      "e200k_110nacl_model1_006_A-B_global_dock_07652    -461.960 in cluster  53\n",
      "e200k_110nacl_model1_006_A-B_global_dock_00487    -452.876 in cluster  54\n",
      "e200k_110nacl_model1_006_A-B_global_dock_01046    -448.108 in cluster  55\n",
      "e200k_110nacl_model1_006_A-B_global_dock_05126    -452.657 in cluster  56\n",
      "e200k_110nacl_model1_006_A-B_global_dock_05601    -450.550 in cluster  57\n",
      "e200k_110nacl_model1_006_A-B_global_dock_06194    -447.650 in cluster  58\n",
      "e200k_110nacl_model1_006_A-B_global_dock_04517    -457.801 in cluster  59\n",
      "e200k_110nacl_model1_006_A-B_global_dock_00375    -452.995 in cluster  60\n",
      "e200k_110nacl_model1_006_A-B_global_dock_01957    -454.393 in cluster  61\n",
      "e200k_110nacl_model1_006_A-B_global_dock_01552    -447.001 in cluster  62\n",
      "e200k_110nacl_model1_006_A-B_global_dock_07754    -440.905 in cluster  63\n",
      "e200k_110nacl_model1_006_A-B_global_dock_00200    -458.231 in cluster  64\n",
      "e200k_110nacl_model1_006_A-B_global_dock_04318    -448.969 in cluster  65\n",
      "e200k_110nacl_model1_006_A-B_global_dock_08595    -440.101 in cluster  66\n",
      "e200k_110nacl_model1_006_A-B_global_dock_07512    -445.111 in cluster  67\n",
      "e200k_110nacl_model1_006_A-B_global_dock_02217    -441.596 in cluster  68\n",
      "e200k_110nacl_model1_006_A-B_global_dock_00141    -442.869 in cluster  69\n",
      "e200k_110nacl_model1_006_A-B_global_dock_07885    -437.732 in cluster  70\n",
      "e200k_110nacl_model1_006_A-B_global_dock_07908    -451.123 in cluster  71\n",
      "e200k_110nacl_model1_006_A-B_global_dock_04706    -385.110 in cluster  72\n",
      "e200k_110nacl_model1_006_A-B_global_dock_09686    -426.700 in cluster  74\n",
      "e200k_110nacl_model1_006_A-B_global_dock_03897    -443.539 in cluster  75\n",
      "e200k_110nacl_model1_006_A-B_global_dock_07761    -424.169 in cluster  79\n",
      "e200k_110nacl_model1_006_A-B_global_dock_01242    -441.069 in cluster  80\n",
      "e200k_110nacl_model1_006_A-B_global_dock_03011    -439.369 in cluster  82\n"
     ]
    }
   ],
   "source": [
    "fp = open(\"pdbfiles_list.txt\", \"r\")\n",
    "\n",
    "nametoenergy = {}\n",
    "\n",
    "for l in fp:\n",
    "    sl = l.split()\n",
    "    nametoenergy[sl[0]] = float(sl[1])\n",
    "\n",
    "fp.close()\n",
    "    \n",
    "for id in clustid:\n",
    "    mine = 0.0\n",
    "    selectedname = \"\"\n",
    "    for fullname in idtolist[id]:\n",
    "        name = fullname.split(\"/\")[-1][:-4]\n",
    "        energy = 0.0\n",
    "        if name in nametoenergy:\n",
    "            energy = nametoenergy[name]\n",
    "        \n",
    "        if energy < mine:\n",
    "            mine = energy \n",
    "            selectedname = name\n",
    "            \n",
    "    print (selectedname, \" %10.3f in cluster %3d\"%(mine, id))"
   ]
  },
  {
   "cell_type": "code",
   "execution_count": null,
   "metadata": {},
   "outputs": [],
   "source": []
  }
 ],
 "metadata": {
  "kernelspec": {
   "display_name": "Python 3",
   "language": "python",
   "name": "python3"
  },
  "language_info": {
   "codemirror_mode": {
    "name": "ipython",
    "version": 3
   },
   "file_extension": ".py",
   "mimetype": "text/x-python",
   "name": "python",
   "nbconvert_exporter": "python",
   "pygments_lexer": "ipython3",
   "version": "3.8.5"
  }
 },
 "nbformat": 4,
 "nbformat_minor": 4
}
